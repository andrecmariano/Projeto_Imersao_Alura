{
  "nbformat": 4,
  "nbformat_minor": 0,
  "metadata": {
    "colab": {
      "provenance": [],
      "authorship_tag": "ABX9TyP8QjqkMF7lugiawU9EL/Fe",
      "include_colab_link": true
    },
    "kernelspec": {
      "name": "python3",
      "display_name": "Python 3"
    },
    "language_info": {
      "name": "python"
    }
  },
  "cells": [
    {
      "cell_type": "markdown",
      "metadata": {
        "id": "view-in-github",
        "colab_type": "text"
      },
      "source": [
        "<a href=\"https://colab.research.google.com/github/andrecmariano/Projeto_Imersao_Alura/blob/main/Buscador_Pet.ipynb\" target=\"_parent\"><img src=\"https://colab.research.google.com/assets/colab-badge.svg\" alt=\"Open In Colab\"/></a>"
      ]
    },
    {
      "cell_type": "code",
      "execution_count": 8,
      "metadata": {
        "id": "otJQpixkoXJ0"
      },
      "outputs": [],
      "source": [
        "!pip install -q -U google-generativeai"
      ]
    },
    {
      "cell_type": "code",
      "source": [
        "import google.generativeai as genai\n",
        "from google.colab import userdata\n",
        "api_key = userdata.get('SECRET_KEY')\n",
        "\n",
        "genai.configure(api_key=api_key)"
      ],
      "metadata": {
        "id": "YFjQnCDJoaQS"
      },
      "execution_count": 17,
      "outputs": []
    },
    {
      "cell_type": "code",
      "source": [
        "model = genai.GenerativeModel('gemini-1.0-pro')"
      ],
      "metadata": {
        "id": "he_lpUNyoj4p"
      },
      "execution_count": 10,
      "outputs": []
    },
    {
      "cell_type": "code",
      "source": [
        "from flask import Flask, redirect, url_for, render_template, request, flash\n",
        "from werkzeug.utils import secure_filename\n",
        "import os\n",
        "\n",
        "app = Flask(__name__)\n",
        "\n",
        "cidades = [\n",
        "    \"Aceguá\",\n",
        "    \"Agudo\",\n",
        "    # ... (Todas as cidades da lista fornecida)\n",
        "]\n",
        "\n",
        "@app.route(\"/\")\n",
        "def index():\n",
        "    return render_template(\"index.html\", cidades=cidades)\n",
        "\n",
        "@app.route(\"/cadastrar-animal\", methods=[\"GET\", \"POST\"])\n",
        "def cadastrar_animal():\n",
        "    if request.method == \"POST\":\n",
        "        # Obter a cidade selecionada\n",
        "        cidade = request.form.get(\"cidade\")\n",
        "\n",
        "        # Verificar se uma imagem foi enviada\n",
        "        if \"imagem\" not in request.files:\n",
        "            flash(\"Nenhuma imagem foi enviada.\", \"error\")\n",
        "            return redirect(url_for(\"cadastrar_animal\"))\n",
        "\n",
        "        # Obter a imagem enviada\n",
        "        imagem = request.files[\"imagem\"]\n",
        "\n",
        "        # Verificar se o nome do arquivo é seguro\n",
        "        if imagem.filename != \"\":\n",
        "            filename = secure_filename(imagem.filename)\n",
        "\n",
        "            # Salvar a imagem na nuvem\n",
        "            imagem.save(os.path.join(\"static\", \"imagens\", filename))\n",
        "\n",
        "            flash(\"Imagem salva com sucesso!\", \"success\")\n",
        "            return redirect(url_for(\"index\"))\n",
        "\n",
        "    return render_template(\"cadastrar_animal.html\", cidades=cidades)\n",
        "\n",
        "@app.route(\"/procurar-animal\", methods=[\"GET\", \"POST\"])\n",
        "def procurar_animal():\n",
        "    if request.method == \"POST\":\n",
        "        # Obter a cidade selecionada\n",
        "        cidade = request.form.get(\"cidade\")\n",
        "\n",
        "        # Obter os dados do formulário\n",
        "        tipo = request.form.get(\"tipo\")\n",
        "        porte = request.form.get(\"porte\")\n",
        "        pelagem = request.form.get(\"pelagem\")\n",
        "        cor = request.form.get(\"cor\")\n",
        "        raca = request.form.get(\"raca\")\n",
        "\n",
        "        # Pesquisar as imagens que correspondem aos dados do formulário\n",
        "\n",
        "        # Exibir as imagens que correspondem aos dados do formulário\n",
        "\n",
        "    return render_template(\"procurar_animal.html\", cidades=cidades)\n",
        "\n",
        "if __name__ == \"__main__\":\n",
        "    app.run(debug=True)"
      ],
      "metadata": {
        "colab": {
          "base_uri": "https://localhost:8080/"
        },
        "id": "hCHpEXKhDumo",
        "outputId": "cfa0dbc5-76cd-44fd-8520-ffffe89c020c"
      },
      "execution_count": 16,
      "outputs": [
        {
          "output_type": "stream",
          "name": "stdout",
          "text": [
            " * Serving Flask app '__main__'\n",
            " * Debug mode: on\n"
          ]
        },
        {
          "output_type": "stream",
          "name": "stderr",
          "text": [
            "INFO:werkzeug:\u001b[31m\u001b[1mWARNING: This is a development server. Do not use it in a production deployment. Use a production WSGI server instead.\u001b[0m\n",
            " * Running on http://127.0.0.1:5000\n",
            "INFO:werkzeug:\u001b[33mPress CTRL+C to quit\u001b[0m\n",
            "INFO:werkzeug: * Restarting with stat\n"
          ]
        }
      ]
    }
  ]
}